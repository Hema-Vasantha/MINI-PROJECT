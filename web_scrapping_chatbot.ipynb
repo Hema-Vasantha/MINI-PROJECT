{
  "nbformat": 4,
  "nbformat_minor": 0,
  "metadata": {
    "colab": {
      "provenance": [],
      "include_colab_link": true
    },
    "kernelspec": {
      "name": "python3",
      "display_name": "Python 3"
    },
    "language_info": {
      "name": "python"
    }
  },
  "cells": [
    {
      "cell_type": "markdown",
      "metadata": {
        "id": "view-in-github",
        "colab_type": "text"
      },
      "source": [
        "<a href=\"https://colab.research.google.com/github/Hema-Vasantha/MINI-PROJECT/blob/main/web_scrapping_chatbot.ipynb\" target=\"_parent\"><img src=\"https://colab.research.google.com/assets/colab-badge.svg\" alt=\"Open In Colab\"/></a>"
      ]
    },
    {
      "cell_type": "code",
      "execution_count": 2,
      "metadata": {
        "id": "rEfaGGuK8cFv",
        "outputId": "3cc2fb09-4a77-47d8-d923-bb890259bd9d",
        "colab": {
          "base_uri": "https://localhost:8080/"
        }
      },
      "outputs": [
        {
          "output_type": "stream",
          "name": "stdout",
          "text": [
            "Collecting PyPDF2\n",
            "  Downloading pypdf2-3.0.1-py3-none-any.whl.metadata (6.8 kB)\n",
            "Downloading pypdf2-3.0.1-py3-none-any.whl (232 kB)\n",
            "\u001b[?25l   \u001b[90m━━━━━━━━━━━━━━━━━━━━━━━━━━━━━━━━━━━━━━━━\u001b[0m \u001b[32m0.0/232.6 kB\u001b[0m \u001b[31m?\u001b[0m eta \u001b[36m-:--:--\u001b[0m\r\u001b[2K   \u001b[90m━━━━━━━━━━━━━━━━━━━━━━━━━━━━━━━━━━━━━━━━\u001b[0m \u001b[32m232.6/232.6 kB\u001b[0m \u001b[31m13.7 MB/s\u001b[0m eta \u001b[36m0:00:00\u001b[0m\n",
            "\u001b[?25hInstalling collected packages: PyPDF2\n",
            "Successfully installed PyPDF2-3.0.1\n",
            "Collecting python-docx\n",
            "  Downloading python_docx-1.1.2-py3-none-any.whl.metadata (2.0 kB)\n",
            "Requirement already satisfied: lxml>=3.1.0 in /usr/local/lib/python3.10/dist-packages (from python-docx) (5.3.0)\n",
            "Requirement already satisfied: typing-extensions>=4.9.0 in /usr/local/lib/python3.10/dist-packages (from python-docx) (4.12.2)\n",
            "Downloading python_docx-1.1.2-py3-none-any.whl (244 kB)\n",
            "\u001b[2K   \u001b[90m━━━━━━━━━━━━━━━━━━━━━━━━━━━━━━━━━━━━━━━━\u001b[0m \u001b[32m244.3/244.3 kB\u001b[0m \u001b[31m12.8 MB/s\u001b[0m eta \u001b[36m0:00:00\u001b[0m\n",
            "\u001b[?25hInstalling collected packages: python-docx\n",
            "Successfully installed python-docx-1.1.2\n"
          ]
        }
      ],
      "source": [
        "!pip install PyPDF2\n",
        "!pip install python-docx\n",
        "\n",
        "\n",
        "import requests\n",
        "\n",
        "API_KEY = \"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\""
      ]
    },
    {
      "cell_type": "code",
      "source": [
        "import json\n",
        "\n",
        "url = \"https://api.groq.com/openai/v1/chat/completions\"\n",
        "\n"
      ],
      "metadata": {
        "id": "xSjwGgpx-mG9"
      },
      "execution_count": 3,
      "outputs": []
    },
    {
      "cell_type": "code",
      "source": [
        "prompt = input()"
      ],
      "metadata": {
        "colab": {
          "base_uri": "https://localhost:8080/"
        },
        "id": "m7WkuV4zDGS0",
        "outputId": "948939aa-f91f-42fb-e8a3-029f2a405988"
      },
      "execution_count": 4,
      "outputs": [
        {
          "name": "stdout",
          "output_type": "stream",
          "text": [
            "C Programming\n"
          ]
        }
      ]
    },
    {
      "cell_type": "code",
      "source": [
        "data = {\n",
        "  \"messages\": [\n",
        "    {\n",
        "      \"role\": \"user\",\n",
        "      \"content\": prompt\n",
        "    }\n",
        "  ],\n",
        "  \"model\": \"llama3-8b-8192\",\n",
        "  \"temperature\": 0\n",
        "}\n",
        "\n",
        "headers = {\n",
        "    \"Content-Type\": \"application/json\",\n",
        "    \"Authorization\": f\"Bearer {API_KEY}\"\n",
        "}\n",
        "\n",
        "res = requests.post(\n",
        "    url, data=json.dumps(data), headers=headers\n",
        ")\n",
        "res = res.json()"
      ],
      "metadata": {
        "id": "OzamyelXDEUh"
      },
      "execution_count": 5,
      "outputs": []
    },
    {
      "cell_type": "code",
      "source": [
        "len(res[\"choices\"])\n",
        "data = res[\"choices\"][0][\"message\"][\"content\"]\n",
        "data"
      ],
      "metadata": {
        "colab": {
          "base_uri": "https://localhost:8080/",
          "height": 123
        },
        "id": "eda20TPDAt8R",
        "outputId": "9aaeb250-3ec5-4ce8-9e74-b6839963e37e"
      },
      "execution_count": 6,
      "outputs": [
        {
          "output_type": "execute_result",
          "data": {
            "text/plain": [
              "\"C Programming!\\n\\nC is a high-level, general-purpose programming language that was developed by Dennis Ritchie between 1969 and 1973 at Bell Labs. It was designed to be portable, efficient, and easy to use, making it a popular choice for a wide range of applications, from operating systems and embedded systems to web browsers and games.\\n\\nHere are some key features and characteristics of the C programming language:\\n\\n**Syntax**: C's syntax is similar to other programming languages, with a focus on simplicity and readability. It uses a combination of keywords, identifiers, and symbols to define the structure of programs.\\n\\n**Variables**: C has a simple and flexible variable declaration system, which allows you to declare variables of different data types, such as integers, floating-point numbers, characters, and arrays.\\n\\n**Data Types**: C has a range of built-in data types, including:\\n\\n\\t* Integers (int)\\n\\t* Floating-point numbers (float, double)\\n\\t* Characters (char)\\n\\t* Arrays (e.g., int[10])\\n\\t* Structures (e.g., struct person { int age; char name[20]; })\\n\\t* Unions (e.g., union color { int red; int green; int blue; })\\n\\n**Operators**: C has a range of operators for performing arithmetic, comparison, logical, and assignment operations.\\n\\n**Control Structures**: C has several control structures, including:\\n\\n\\t* Conditional statements (if, if-else, switch)\\n\\t* Loops (for, while, do-while)\\n\\t* Jump statements (break, continue, return)\\n\\n**Functions**: C allows you to define your own functions, which can take arguments and return values.\\n\\n**Pointers**: C is known for its use of pointers, which are variables that store memory addresses. Pointers are used to dynamically allocate memory, pass arguments to functions, and return values from functions.\\n\\n**Memory Management**: C has a manual memory management system, which requires you to use pointers to allocate and deallocate memory using functions like malloc() and free().\\n\\n**Libraries**: C has a wide range of libraries and frameworks that provide additional functionality, such as:\\n\\n\\t* Standard Library (e.g., printf(), scanf(), malloc())\\n\\t* POSIX Library (e.g., fork(), exec(), pipe())\\n\\t* Graphics Library (e.g., OpenGL, DirectX)\\n\\n**Applications**: C is used in a wide range of applications, including:\\n\\n\\t* Operating Systems (e.g., Linux, Windows)\\n\\t* Embedded Systems (e.g., microcontrollers, robots)\\n\\t* Web Browsers (e.g., Google Chrome, Mozilla Firefox)\\n\\t* Games (e.g., Minecraft, Fortnite)\\n\\t* Scientific Simulations (e.g., climate modeling, molecular dynamics)\\n\\n**Advantages**:\\n\\n\\t* Portability: C code can be compiled on a wide range of platforms.\\n\\t* Efficiency: C code can be optimized for performance.\\n\\t* Flexibility: C allows you to write low-level code that interacts directly with hardware.\\n\\n**Disadvantages**:\\n\\n\\t* Error-prone: C's lack of runtime checks and manual memory management can lead to errors.\\n\\t* Complex: C's syntax and semantics can be complex and difficult to learn.\\n\\nOverall, C is a powerful and versatile programming language that is widely used in many areas of computer science and engineering.\""
            ],
            "application/vnd.google.colaboratory.intrinsic+json": {
              "type": "string"
            }
          },
          "metadata": {},
          "execution_count": 6
        }
      ]
    },
    {
      "cell_type": "code",
      "source": [
        "messages = [\n",
        "  {\n",
        "    \"role\": \"system\",\n",
        "    \"content\": \"You are a helpful bot that understands the user's query and provide the output\"\n",
        "  }\n",
        "]\n",
        "while True:\n",
        "  prompt = input(\"Enter the prompt\")\n",
        "  messages.append(\n",
        "    {\n",
        "      \"role\": \"user\",\n",
        "      \"content\": prompt\n",
        "    }\n",
        "  )\n",
        "  data = {\n",
        "    \"messages\": messages,\n",
        "    \"model\": \"llama3-8b-8192\",\n",
        "    \"temperature\": 0\n",
        "  }\n",
        "\n",
        "  headers = {\n",
        "      \"Content-Type\": \"application/json\",\n",
        "      \"Authorization\": f\"Bearer {API_KEY}\"\n",
        "  }\n",
        "\n",
        "  res = requests.post(\n",
        "      url, data=json.dumps(data), headers=headers\n",
        "  )\n",
        "  res = res.json()\n",
        "  data = res[\"choices\"][0][\"message\"][\"content\"]\n",
        "  messages.append(\n",
        "      {\n",
        "          \"role\": \"assistant\",\n",
        "          \"content\": data\n",
        "      }\n",
        "  )\n",
        "  print(data)\n",
        "  print(\"\\n\\n\")\n"
      ],
      "metadata": {
        "colab": {
          "base_uri": "https://localhost:8080/"
        },
        "id": "bjm3Mp-IEJZA",
        "outputId": "266d4204-df3b-4248-c971-7e37d6e84358"
      },
      "execution_count": null,
      "outputs": [
        {
          "output_type": "stream",
          "name": "stdout",
          "text": [
            "Enter the promptfeatures of C program\n",
            "C programming language has several features that make it a popular choice among programmers. Here are some of the key features of C programming:\n",
            "\n",
            "1. **Platform Independence**: C programs can run on any platform that has a C compiler, without any modifications. This is because C code is compiled into machine-specific code, which can be executed directly by the computer's processor.\n",
            "\n",
            "2. **Low-Level Memory Management**: C allows programmers to directly manipulate memory, which gives them more control over the program's performance and memory usage. This feature is useful for developing operating systems, device drivers, and other low-level system software.\n",
            "\n",
            "3. **Structured Programming**: C supports structured programming, which means that programs can be organized into functions, loops, and conditional statements. This makes it easier to write, test, and maintain large programs.\n",
            "\n",
            "4. **Pointers**: C has a concept of pointers, which are variables that store memory addresses. Pointers are used to dynamically allocate memory, pass variables by reference, and implement complex data structures.\n",
            "\n",
            "5. **Header Files**: C has a standard library of header files that provide functions for input/output operations, string manipulation, and other common tasks. These header files can be included in a program using the #include directive.\n",
            "\n",
            "6. **Preprocessor**: C has a preprocessor that allows programmers to include other files, define macros, and perform text substitutions. The preprocessor is used to simplify the development process and make programs more modular.\n",
            "\n",
            "7. **Multi-Paradigm Programming**: C supports multiple programming paradigms, including procedural, object-oriented, and functional programming. This makes it a versatile language that can be used for a wide range of applications.\n",
            "\n",
            "8. **Error Handling**: C has a built-in error handling mechanism that allows programmers to detect and handle errors at runtime. This feature is useful for developing robust and fault-tolerant programs.\n",
            "\n",
            "9. **Portability**: C programs can be compiled on different platforms with minimal modifications, making it a portable language.\n",
            "\n",
            "10. **Efficient**: C is a low-level language that provides direct access to hardware resources, making it an efficient language for developing applications that require high performance.\n",
            "\n",
            "11. **Extensive Libraries**: C has a wide range of libraries that provide functions for various tasks, such as input/output operations, string manipulation, and mathematical operations.\n",
            "\n",
            "12. **Cross-Platform Development**: C can be used to develop applications that run on multiple platforms, including Windows, macOS, and Linux.\n",
            "\n",
            "13. **Embedded Systems**: C is widely used in embedded systems, such as microcontrollers, robots, and other devices that require direct access to hardware resources.\n",
            "\n",
            "14. **Scripting**: C can be used as a scripting language, allowing programmers to write scripts that automate tasks and interact with other programs.\n",
            "\n",
            "15. **Legacy Code**: C has a long history, and many legacy systems are written in C. This means that C programmers can work on existing systems and maintain them over time.\n",
            "\n",
            "These are some of the key features of the C programming language. C is a versatile language that has been widely used for many years, and its features make it a popular choice among programmers.\n",
            "\n",
            "\n",
            "\n",
            "Enter the promptfunctions\n",
            "Functions in C programming language are blocks of code that can be called multiple times from different parts of the program. They are used to perform a specific task and can take arguments and return values. Here are some key features of functions in C:\n",
            "\n",
            "**Types of Functions**\n",
            "\n",
            "1. **Library Functions**: These are pre-defined functions that are part of the C standard library. Examples include `printf()`, `scanf()`, and `malloc()`.\n",
            "2. **User-Defined Functions**: These are functions that are defined by the programmer. They can be used to perform specific tasks or to implement algorithms.\n",
            "3. **Recursive Functions**: These are functions that call themselves. They can be used to solve problems that have a recursive structure.\n",
            "\n",
            "**Function Declaration**\n",
            "\n",
            "A function declaration, also known as a function prototype, is a statement that specifies the function's name, return type, and parameters. It is used to inform the compiler about the function's signature.\n",
            "\n",
            "**Function Definition**\n",
            "\n",
            "A function definition is the actual code that implements the function. It includes the function's body, which is the code that is executed when the function is called.\n",
            "\n",
            "**Function Call**\n",
            "\n",
            "A function call is the process of invoking a function. It involves passing arguments to the function and executing the function's code.\n",
            "\n",
            "**Function Arguments**\n",
            "\n",
            "Function arguments are values that are passed to a function when it is called. They are used to provide input to the function.\n",
            "\n",
            "**Function Return Value**\n",
            "\n",
            "A function return value is the value that is returned by a function when it is called. It is used to provide output from the function.\n",
            "\n",
            "**Function Example**\n",
            "\n",
            "Here is an example of a simple function in C:\n",
            "```\n",
            "#include <stdio.h>\n",
            "\n",
            "// Function declaration\n",
            "int add(int x, int y);\n",
            "\n",
            "int main() {\n",
            "    int result = add(2, 3);\n",
            "    printf(\"Result: %d\\n\", result);\n",
            "    return 0;\n",
            "}\n",
            "\n",
            "// Function definition\n",
            "int add(int x, int y) {\n",
            "    int result = x + y;\n",
            "    return result;\n",
            "}\n",
            "```\n",
            "In this example, the `add()` function takes two integer arguments, `x` and `y`, and returns their sum. The `main()` function calls the `add()` function with arguments `2` and `3`, and prints the result.\n",
            "\n",
            "**Function Benefits**\n",
            "\n",
            "1. **Code Reusability**: Functions can be reused throughout the program, reducing code duplication and making it easier to maintain.\n",
            "2. **Modularity**: Functions can be used to break down large programs into smaller, more manageable modules.\n",
            "3. **Easier Debugging**: Functions can be tested and debugged independently, making it easier to identify and fix errors.\n",
            "4. **Improved Code Organization**: Functions can be used to organize code into logical groups, making it easier to understand and maintain.\n",
            "\n",
            "**Common Function Errors**\n",
            "\n",
            "1. **Function Not Declared**: The function is called before it is declared.\n",
            "2. **Function Not Defined**: The function is declared but not defined.\n",
            "3. **Incorrect Function Call**: The function is called with incorrect arguments or parameters.\n",
            "4. **Function Not Returning a Value**: The function is expected to return a value but does not.\n",
            "\n",
            "By understanding functions in C, you can write more efficient, modular, and maintainable code.\n",
            "\n",
            "\n",
            "\n"
          ]
        }
      ]
    }
  ]
}